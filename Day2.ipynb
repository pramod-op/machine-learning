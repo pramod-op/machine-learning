{
  "nbformat": 4,
  "nbformat_minor": 0,
  "metadata": {
    "colab": {
      "provenance": []
    },
    "kernelspec": {
      "name": "python3",
      "display_name": "Python 3"
    },
    "language_info": {
      "name": "python"
    }
  },
  "cells": [
    {
      "cell_type": "markdown",
      "source": [
        "Create Arrays"
      ],
      "metadata": {
        "id": "yyE2imMNOyim"
      }
    },
    {
      "cell_type": "code",
      "source": [
        "import numpy as np\n",
        "\n",
        "a = np.array([1, 2, 3, 4, 5])\n",
        "b = np.arange(1, 6)  # creates [1, 2, 3, 4, 5]\n",
        "c = np.zeros((3))  # 2x3 matrix of zeros\n",
        "d = np.ones((3, 2))   # 3x2 matrix of ones\n",
        "\n",
        "print(\"Array a:\", a)\n",
        "print(\"Array b:\", b)\n",
        "print(\"2x3 Zeros:\", c)\n",
        "print(\"3x2 Ones:\", d)"
      ],
      "metadata": {
        "colab": {
          "base_uri": "https://localhost:8080/"
        },
        "id": "HQFe84OlTDxN",
        "outputId": "b678bdee-e531-4f30-f158-c1f21543af3d"
      },
      "execution_count": null,
      "outputs": [
        {
          "output_type": "stream",
          "name": "stdout",
          "text": [
            "Array a: [1 2 3 4 5]\n",
            "Array b: [1 2 3 4 5]\n",
            "2x3 Zeros: [0. 0. 0.]\n",
            "3x2 Ones: [[1. 1.]\n",
            " [1. 1.]\n",
            " [1. 1.]]\n"
          ]
        }
      ]
    },
    {
      "cell_type": "markdown",
      "source": [
        "Indexing And Slicing"
      ],
      "metadata": {
        "id": "Ss72jRz-TONL"
      }
    },
    {
      "cell_type": "code",
      "source": [
        "print(\"first element of a:\",a[0])\n",
        "print(\"last two element of a:\", a[-2:])"
      ],
      "metadata": {
        "colab": {
          "base_uri": "https://localhost:8080/"
        },
        "id": "rXFLGovZTSrb",
        "outputId": "47245f56-eab2-4951-9996-30163f2ebc6d"
      },
      "execution_count": null,
      "outputs": [
        {
          "output_type": "stream",
          "name": "stdout",
          "text": [
            "first element of a: 1\n",
            "last two element of a: [4 5]\n"
          ]
        }
      ]
    },
    {
      "cell_type": "markdown",
      "source": [
        "Basic Aithmetic Operators"
      ],
      "metadata": {
        "id": "MZws-yXxTuHe"
      }
    },
    {
      "cell_type": "code",
      "source": [
        "print(\"a+b:\",a+2)\n",
        "print(\"a*b:\",a*b)\n"
      ],
      "metadata": {
        "colab": {
          "base_uri": "https://localhost:8080/"
        },
        "id": "v15fMNvrT0hM",
        "outputId": "71e60352-f85a-4f9f-c6ea-64fa964c37fc"
      },
      "execution_count": null,
      "outputs": [
        {
          "output_type": "stream",
          "name": "stdout",
          "text": [
            "a+b: [3 4 5 6 7]\n",
            "a*b: [ 1  4  9 16 25]\n"
          ]
        }
      ]
    },
    {
      "cell_type": "markdown",
      "source": [
        "Basic Statistics"
      ],
      "metadata": {
        "id": "y8uUJKppUKfA"
      }
    },
    {
      "cell_type": "code",
      "source": [
        "print(\"Square of a:\", np.square(a))\n",
        "print(\"Mean of a:\", np.mean(a))\n",
        "print(\"Standard deviation:\", np.std(a))"
      ],
      "metadata": {
        "colab": {
          "base_uri": "https://localhost:8080/"
        },
        "id": "4kVKq0BaUQ1t",
        "outputId": "e26ac7dd-083d-4448-b12b-44bd384e0b8d"
      },
      "execution_count": null,
      "outputs": [
        {
          "output_type": "stream",
          "name": "stdout",
          "text": [
            "Square of a: [ 1  4  9 16 25]\n",
            "Mean of a: 3.0\n",
            "Standard deviation: 1.4142135623730951\n"
          ]
        }
      ]
    },
    {
      "cell_type": "markdown",
      "source": [
        "Reshaping arrays"
      ],
      "metadata": {
        "id": "Vfdze6wuUl3A"
      }
    },
    {
      "cell_type": "code",
      "source": [
        "matrix=np.arange(1,10).reshape((3,3))\n",
        "print(\"reshaped 3x3 matrix:\")\n",
        "matrix"
      ],
      "metadata": {
        "colab": {
          "base_uri": "https://localhost:8080/"
        },
        "id": "r3vFABAOUlDH",
        "outputId": "7c899da5-2bee-4d5d-dff1-762131d83d45"
      },
      "execution_count": null,
      "outputs": [
        {
          "output_type": "stream",
          "name": "stdout",
          "text": [
            "reshaped 3x3 matrix:\n"
          ]
        },
        {
          "output_type": "execute_result",
          "data": {
            "text/plain": [
              "array([[1, 2, 3],\n",
              "       [4, 5, 6],\n",
              "       [7, 8, 9]])"
            ]
          },
          "metadata": {},
          "execution_count": 5
        }
      ]
    },
    {
      "cell_type": "markdown",
      "source": [
        "Transpose"
      ],
      "metadata": {
        "id": "CPgWqbvbVJah"
      }
    },
    {
      "cell_type": "code",
      "source": [
        "print(\"Transpose:\")\n",
        "matrix.T"
      ],
      "metadata": {
        "colab": {
          "base_uri": "https://localhost:8080/"
        },
        "id": "QbvOC9YIVME2",
        "outputId": "42a415b0-1ce8-4bc7-b305-29973d70dfa4"
      },
      "execution_count": null,
      "outputs": [
        {
          "output_type": "stream",
          "name": "stdout",
          "text": [
            "Transpose:\n"
          ]
        },
        {
          "output_type": "execute_result",
          "data": {
            "text/plain": [
              "array([[1, 4, 7],\n",
              "       [2, 5, 8],\n",
              "       [3, 6, 9]])"
            ]
          },
          "metadata": {},
          "execution_count": 7
        }
      ]
    },
    {
      "cell_type": "markdown",
      "source": [
        "Boolean indexing"
      ],
      "metadata": {
        "id": "njx42-cKVZfQ"
      }
    },
    {
      "cell_type": "code",
      "source": [
        "print(\"Elaments > 5:\", matrix[matrix > 5])"
      ],
      "metadata": {
        "colab": {
          "base_uri": "https://localhost:8080/"
        },
        "id": "Ofz_huLvVeib",
        "outputId": "d558f7e6-a559-4a6f-c28c-c2bcdaa47f6b"
      },
      "execution_count": null,
      "outputs": [
        {
          "output_type": "stream",
          "name": "stdout",
          "text": [
            "Elaments > 5: [6 7 8 9]\n"
          ]
        }
      ]
    },
    {
      "cell_type": "code",
      "source": [
        "import pandas as pd\n",
        "\n",
        "data = {\n",
        "    'Name': ['Alice', 'Bob', 'Charlie', 'David', 'Eva'],\n",
        "    'Age': [25, 30, 35, 40, 22],\n",
        "    'Department': ['Sales', 'Engineering', 'HR', 'Engineering', 'Sales'],\n",
        "    'Salary': [50000, 80000, 40000, 90000, 45000]\n",
        "}\n",
        "df = pd.DataFrame(data)\n",
        "df\n",
        "\n",
        "import matplotlib.pyplot as plt\n",
        "\n",
        "plt.figure(figsize=(8, 6))\n",
        "departments = df['Department'].value_counts()\n",
        "departments.plot(kind='bar', color='teal')\n",
        "plt.title(\"Employee Count by Department\")\n",
        "plt.xlabel(\"Department\")\n",
        "plt.ylabel(\"Count\")\n",
        "plt.show()"
      ],
      "metadata": {
        "colab": {
          "base_uri": "https://localhost:8080/",
          "height": 574
        },
        "id": "HSm40lEz3I62",
        "outputId": "7ddb1a67-6622-4cf6-a504-acda2e90b6a3"
      },
      "execution_count": null,
      "outputs": [
        {
          "output_type": "display_data",
          "data": {
            "text/plain": [
              "<Figure size 800x600 with 1 Axes>"
            ],
            "image/png": "[encoded data removed]"
          },
          "metadata": {}
        }
      ]
    }
  ]
}